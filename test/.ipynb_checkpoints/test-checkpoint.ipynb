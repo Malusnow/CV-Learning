{
 "cells": [
  {
   "cell_type": "code",
   "execution_count": 3,
   "id": "72db97f8-6cc4-4ad9-9921-cf3c0ab59284",
   "metadata": {},
   "outputs": [
    {
     "name": "stdout",
     "output_type": "stream",
     "text": [
      "100\n"
     ]
    }
   ],
   "source": [
    "a=100\n",
    "print(a)"
   ]
  },
  {
   "cell_type": "code",
   "execution_count": 5,
   "id": "936dfd55-f0e7-4f67-8ec8-d481037dee0a",
   "metadata": {},
   "outputs": [
    {
     "data": {
      "text/plain": [
       "300"
      ]
     },
     "execution_count": 5,
     "metadata": {},
     "output_type": "execute_result"
    }
   ],
   "source": [
    "100+200"
   ]
  },
  {
   "cell_type": "markdown",
   "id": "ec64214d-1e43-4529-8c9e-7a4de47d91d6",
   "metadata": {},
   "source": [
    "这是一段说明"
   ]
  },
  {
   "cell_type": "code",
   "execution_count": null,
   "id": "6b620310-50e2-451d-8590-4d78304b8b90",
   "metadata": {},
   "outputs": [],
   "source": []
  },
  {
   "cell_type": "code",
   "execution_count": 6,
   "id": "41bd4565-6a56-4187-a0f8-ce843b08c6df",
   "metadata": {},
   "outputs": [],
   "source": [
    "import numpy as np"
   ]
  },
  {
   "cell_type": "code",
   "execution_count": 7,
   "id": "1d1c1386-7a59-4024-984e-c8ebae20e44c",
   "metadata": {},
   "outputs": [
    {
     "data": {
      "text/plain": [
       "0.25409784866076324"
      ]
     },
     "execution_count": 7,
     "metadata": {},
     "output_type": "execute_result"
    }
   ],
   "source": [
    "np.random.random()"
   ]
  },
  {
   "cell_type": "code",
   "execution_count": null,
   "id": "da2b8e7d-25cd-40b9-ab24-e8e9d177013f",
   "metadata": {},
   "outputs": [],
   "source": [
    "tab"
   ]
  },
  {
   "cell_type": "code",
   "execution_count": 8,
   "id": "f4eace37-5f45-4ff2-a145-917410b08683",
   "metadata": {},
   "outputs": [
    {
     "name": "stdout",
     "output_type": "stream",
     "text": [
      " 驱动器 D 中的卷是 Data\n",
      " 卷的序列号是 3EBF-4D54\n",
      "\n",
      " D:\\cv\\test 的目录\n",
      "\n",
      "2025/07/07  22:55    <DIR>          .\n",
      "2025/07/07  22:31    <DIR>          ..\n",
      "2025/07/07  22:43    <DIR>          .ipynb_checkpoints\n",
      "2025/07/07  22:55             2,312 test.ipynb\n",
      "               1 个文件          2,312 字节\n",
      "               3 个目录 432,279,195,648 可用字节\n"
     ]
    }
   ],
   "source": [
    "!dir"
   ]
  },
  {
   "cell_type": "code",
   "execution_count": null,
   "id": "7d8ee0f4-e4dc-4aff-b7f0-a260f08085f9",
   "metadata": {},
   "outputs": [],
   "source": []
  }
 ],
 "metadata": {
  "kernelspec": {
   "display_name": "Python 3 (ipykernel)",
   "language": "python",
   "name": "python3"
  },
  "language_info": {
   "codemirror_mode": {
    "name": "ipython",
    "version": 3
   },
   "file_extension": ".py",
   "mimetype": "text/x-python",
   "name": "python",
   "nbconvert_exporter": "python",
   "pygments_lexer": "ipython3",
   "version": "3.12.8"
  }
 },
 "nbformat": 4,
 "nbformat_minor": 5
}
