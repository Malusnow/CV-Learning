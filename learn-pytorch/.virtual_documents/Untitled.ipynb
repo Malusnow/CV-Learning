import torch


torch.cuda.is_available()


dir(torch)


dir(torch.cuda)



