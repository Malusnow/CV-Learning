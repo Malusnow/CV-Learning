{
 "cells": [
  {
   "cell_type": "markdown",
   "id": "ecbfc7f3-ac45-46c6-839b-1a83db13d1b2",
   "metadata": {},
   "source": [
    "First, let's install some libraries that we will need"
   ]
  },
  {
   "cell_type": "code",
   "execution_count": null,
   "id": "c016260b-6dc8-4f6e-822c-2c7293467ca0",
   "metadata": {},
   "outputs": [],
   "source": [
    "!pip install matplotlib numpy"
   ]
  },
  {
   "cell_type": "code",
   "execution_count": null,
   "id": "410f4c1d-f664-4711-a0f8-8bdf50c203c1",
   "metadata": {},
   "outputs": [],
   "source": [
    "import numpy as np\n",
    "import matplotlib.pyplot as plt\n",
    "\n",
    "rng = np.random.default_rng()"
   ]
  },
  {
   "cell_type": "markdown",
   "id": "929bcf68-baa0-42c2-b014-9aec606576bd",
   "metadata": {},
   "source": [
    "# RANSAC"
   ]
  },
  {
   "cell_type": "markdown",
   "id": "1c1f501d-bcea-48f9-8a06-3d12cf80ff03",
   "metadata": {
    "jp-MarkdownHeadingCollapsed": true
   },
   "source": [
    "In this practical session we will implement RANSAC method for fitting a line to a noise dataset with outliers.\n",
    "\n",
    "First, let's generate the noisy data with outliers."
   ]
  },
  {
   "cell_type": "code",
   "execution_count": null,
   "id": "6f8766a6-e9c0-4b57-aad1-5be58f7720a7",
   "metadata": {},
   "outputs": [],
   "source": [
    "# Define true data model and generate data with regular noise\n",
    "pts_n = 100\n",
    "x = rng.uniform(size=pts_n)\n",
    "a, b = 1, 2\n",
    "true_y = a * x + b\n",
    "\n",
    "noise_std = .1\n",
    "noise = rng.standard_normal(pts_n) * noise_std\n",
    "y = true_y + noise\n",
    "\n",
    "# Add outliers\n",
    "out_ratio = .3\n",
    "out_n = round(pts_n * out_ratio)\n",
    "out_ids = rng.choice(pts_n, out_n, replace=False)\n",
    "out_scale = 10\n",
    "y[out_ids] = true_y[out_ids] + (y[out_ids] - true_y[out_ids]) * out_scale\n",
    "\n",
    "# Visualize\n",
    "plt.plot([0, 1], [b, a + b], c=(.7, .7, .7), linestyle='dashed', label='True data model')\n",
    "plt.scatter(x, y, c='black', marker='x', label='Real data points')\n",
    "plt.legend()"
   ]
  },
  {
   "cell_type": "markdown",
   "id": "9f845dd5-b991-41fe-bd4d-1f150c6e660c",
   "metadata": {},
   "source": [
    "Now, implement the `RansacLineFitter` class to fit this data using RANSAC.\n",
    "Assume the standard deviation of the regular data noise `noise_std` to be known and use it for inlier detection.\n",
    "\n",
    "The method `fit` implements a RANSAC-based algorithm on a high level.\n",
    "**Your task** is to implement the rest of the methods.\n",
    "Look for the code blocks labeled with `'Your code'`, both in the program code and the docstrings.\n",
    "See how the `RansacLineFitter` is supposed to be used for fitting the data further as an example."
   ]
  },
  {
   "cell_type": "code",
   "execution_count": null,
   "id": "8431ff7d-7769-495f-a94c-614691d13f76",
   "metadata": {},
   "outputs": [],
   "source": [
    "class RansacLineFitter:\n",
    "    r\"\"\"Fits a linear model using RANSAC-based algorithm.\n",
    "\n",
    "    Parameters\n",
    "    ----------\n",
    "    noise_std : float\n",
    "        Assumed standard deviation of the regular data noise.\n",
    "    \"\"\"\n",
    "    def __init__(self, noise_std):\n",
    "        self.noise_std = noise_std\n",
    "    \n",
    "    def fit(self, data, max_iters_n=10, print_scores=False):\n",
    "        r\"\"\"Fits a linear model to the {data}.\n",
    "        \n",
    "        Parameters\n",
    "        ----------\n",
    "        data : np.ndarray\n",
    "            of shape [pts_n, 2], data points [(x1, y1), (x2, y2), ...].\n",
    "        max_iters : int\n",
    "            Maximum number of iterations.\n",
    "        print_scores : bool\n",
    "            If True, prints the progression of scores and best scores.\n",
    "        \n",
    "        Returns\n",
    "        -------\n",
    "        model : tuple of floats\n",
    "            (a, b) parameters of the found model.\n",
    "        \"\"\"\n",
    "        self.max_iters_n = max_iters_n\n",
    "        \n",
    "        did_converge = False\n",
    "        iters_n = 0\n",
    "        best_model, best_score = None, 0\n",
    "        while not did_converge:\n",
    "            sample = self.sample_data(data)\n",
    "            model = self.fit_to_subsample(sample)\n",
    "            score = self.evaluate_model(model, data)\n",
    "            if score > best_score:\n",
    "                best_score, best_model = score, model\n",
    "            if print_scores:\n",
    "                print(str(iters_n).rjust(6) + ': Current score ' + str(score).rjust(6) + ', Best score ' + str(best_score).rjust(6))\n",
    "            iters_n +=1\n",
    "            did_converge = self.check_convergence(iters_n)\n",
    "        return best_model\n",
    "\n",
    "    def sample_data(self, data):\n",
    "        r\"\"\"Samples two data points suitable for fitting a linear model.\n",
    "        \n",
    "        Your code\n",
    "        \"\"\"\n",
    "        # You may need https://numpy.org/doc/2.2/reference/random/generated/numpy.random.Generator.choice.html\n",
    "        'Your code'\n",
    "\n",
    "    def fit_to_subsample(self, sample):\n",
    "        r\"\"\"Fits a line to a pair of points.\n",
    "        \n",
    "        Your code\n",
    "        \"\"\"\n",
    "        'Your code'\n",
    "        \n",
    "    def evaluate_model(self, model, data):\n",
    "        r\"\"\"Computes the number of inliers in the data described by the model.\n",
    "    \n",
    "        Parameters\n",
    "        ----------\n",
    "        model : tuple of floats\n",
    "            (a, b) data model y = ax + b.\n",
    "        data : np.ndarray\n",
    "            of shape [pts_n, 2], data points [(x1, y1), (x2, y2), ...].\n",
    "    \n",
    "        Returns\n",
    "        -------\n",
    "        inliers_n : int\n",
    "            Number of inliers.\n",
    "        \"\"\"\n",
    "        inlier_ids = self.get_inlier_ids(model, data)        \n",
    "        inliers_n = len(inlier_ids)\n",
    "        return inliers_n\n",
    "\n",
    "    def get_inlier_ids(self, model, data):\n",
    "        r\"\"\"Identify ids of inliers in the data described by the model.\n",
    "\n",
    "        We assume that the regular data noise is normal with a known standard deviation and define the max error for inliers as three standard deviations.\n",
    "\n",
    "        Parameters\n",
    "        ----------\n",
    "        model : tuple of floats\n",
    "            (a, b) data model y = ax + b.\n",
    "        data : np.ndarray\n",
    "            of shape [pts_n, 2], data points [(x1, y1), (x2, y2), ...].\n",
    "    \n",
    "        Returns\n",
    "        -------\n",
    "        ids : np.ndarray\n",
    "            of shape [inliers_n], ids of inliers.\n",
    "        \"\"\"\n",
    "        'Your code'\n",
    "\n",
    "    def check_convergence(self, iters_n):\n",
    "        r\"\"\"Check for convergence.\n",
    "\n",
    "        We simply check if the max number of iterations was performed.\n",
    "        An alternative way would be to check for a good enough ratio of inliers, e.g inliers_n >= data_size * .8.\n",
    "    \n",
    "        Parameters\n",
    "        ----------\n",
    "        iters_n : int\n",
    "            Current number of iterations performed.\n",
    "    \n",
    "        Returns\n",
    "        -------\n",
    "        did_converge : bool\n",
    "        \"\"\"\n",
    "        return iters_n >= self.max_iters_n"
   ]
  },
  {
   "cell_type": "code",
   "execution_count": 4,
   "id": "af311c04-291e-4f8e-9de6-4ffa35ed8f8f",
   "metadata": {},
   "outputs": [
    {
     "data": {
      "text/plain": [
       "<matplotlib.legend.Legend at 0x7fd69b53e260>"
      ]
     },
     "execution_count": 4,
     "metadata": {},
     "output_type": "execute_result"
    },
    {
     "data": {
      "image/png": "[encoded data removed]",
      "text/plain": [
       "<Figure size 640x480 with 1 Axes>"
      ]
     },
     "metadata": {},
     "output_type": "display_data"
    }
   ],
   "source": [
    "# Find the data model using RANSAC\n",
    "ransac = RansacLineFitter(noise_std)\n",
    "data = np.stack([x, y], -1)\n",
    "(a_est, b_est) = model = ransac.fit(data)\n",
    "\n",
    "# Visualize\n",
    "inlier_ids = ransac.get_inlier_ids(model, data)\n",
    "\n",
    "plt.plot([0, 1], [b, a + b], c=(.7, .7, .7), linestyle='dashed', label='True data model')\n",
    "plt.plot([0, 1], [b_est, a_est + b_est], c='magenta', label='Estimated model')\n",
    "plt.scatter(x, y, c='black', marker='x', label='Real data points')\n",
    "plt.scatter(x[inlier_ids], y[inlier_ids], c='lime', marker='o', label='Inliers')\n",
    "plt.suptitle(f'Number of inliers: {len(inlier_ids)}')\n",
    "plt.legend()"
   ]
  }
 ],
 "metadata": {
  "kernelspec": {
   "display_name": "Python 3 (ipykernel)",
   "language": "python",
   "name": "python3"
  },
  "language_info": {
   "codemirror_mode": {
    "name": "ipython",
    "version": 3
   },
   "file_extension": ".py",
   "mimetype": "text/x-python",
   "name": "python",
   "nbconvert_exporter": "python",
   "pygments_lexer": "ipython3",
   "version": "3.10.12"
  }
 },
 "nbformat": 4,
 "nbformat_minor": 5
}
